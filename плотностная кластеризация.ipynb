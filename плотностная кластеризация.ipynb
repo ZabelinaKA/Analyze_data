{
  "cells": [
    {
      "cell_type": "markdown",
      "id": "c5c191e7",
      "metadata": {
        "id": "c5c191e7"
      },
      "source": [
        "# Плотностная кластеризация"
      ]
    },
    {
      "cell_type": "raw",
      "id": "1ae3159d",
      "metadata": {
        "id": "1ae3159d"
      },
      "source": [
        "Выполните кластеризацию набора 2-х или 3-мерных данных с помощью алгоритма DBSCAN (предполагается, что полученные кластеры не будут выпуклыми), используя различные значения параметров MinPts (из интервала 3..9) и Eps. Выполните визуализацию полученных результатов в виде точечных графиков, на которых цвет точки отражает принадлежность кластеру."
      ]
    },
    {
      "cell_type": "code",
      "execution_count": 110,
      "id": "d26a71b2",
      "metadata": {
        "id": "d26a71b2"
      },
      "outputs": [],
      "source": [
        "from sklearn import datasets\n",
        "import matplotlib.pyplot as plt\n",
        "import pandas as pd\n",
        "import numpy as np\n",
        "\n",
        "from sklearn.cluster import DBSCAN\n",
        "\n",
        "\n",
        "import warnings\n",
        "warnings.filterwarnings(\"ignore\")"
      ]
    },
    {
      "cell_type": "code",
      "execution_count": 111,
      "id": "cd078456",
      "metadata": {
        "colab": {
          "base_uri": "https://localhost:8080/",
          "height": 423
        },
        "id": "cd078456",
        "outputId": "c8b4b9b3-27a2-4003-ccb4-5c8eb41e8178"
      },
      "outputs": [
        {
          "output_type": "execute_result",
          "data": {
            "text/plain": [
              "     PassengerId  Survived  Pclass  \\\n",
              "0              1         0       3   \n",
              "1              2         1       1   \n",
              "2              3         1       3   \n",
              "3              4         1       1   \n",
              "4              5         0       3   \n",
              "..           ...       ...     ...   \n",
              "886          887         0       2   \n",
              "887          888         1       1   \n",
              "888          889         0       3   \n",
              "889          890         1       1   \n",
              "890          891         0       3   \n",
              "\n",
              "                                                  Name     Sex   Age  SibSp  \\\n",
              "0                              Braund, Mr. Owen Harris    male  22.0      1   \n",
              "1    Cumings, Mrs. John Bradley (Florence Briggs Th...  female  38.0      1   \n",
              "2                               Heikkinen, Miss. Laina  female  26.0      0   \n",
              "3         Futrelle, Mrs. Jacques Heath (Lily May Peel)  female  35.0      1   \n",
              "4                             Allen, Mr. William Henry    male  35.0      0   \n",
              "..                                                 ...     ...   ...    ...   \n",
              "886                              Montvila, Rev. Juozas    male  27.0      0   \n",
              "887                       Graham, Miss. Margaret Edith  female  19.0      0   \n",
              "888           Johnston, Miss. Catherine Helen \"Carrie\"  female   NaN      1   \n",
              "889                              Behr, Mr. Karl Howell    male  26.0      0   \n",
              "890                                Dooley, Mr. Patrick    male  32.0      0   \n",
              "\n",
              "     Parch            Ticket     Fare Cabin Embarked  \n",
              "0        0         A/5 21171   7.2500   NaN        S  \n",
              "1        0          PC 17599  71.2833   C85        C  \n",
              "2        0  STON/O2. 3101282   7.9250   NaN        S  \n",
              "3        0            113803  53.1000  C123        S  \n",
              "4        0            373450   8.0500   NaN        S  \n",
              "..     ...               ...      ...   ...      ...  \n",
              "886      0            211536  13.0000   NaN        S  \n",
              "887      0            112053  30.0000   B42        S  \n",
              "888      2        W./C. 6607  23.4500   NaN        S  \n",
              "889      0            111369  30.0000  C148        C  \n",
              "890      0            370376   7.7500   NaN        Q  \n",
              "\n",
              "[891 rows x 12 columns]"
            ],
            "text/html": [
              "\n",
              "  <div id=\"df-07f81f37-cda5-4376-a15e-3a059afb434f\">\n",
              "    <div class=\"colab-df-container\">\n",
              "      <div>\n",
              "<style scoped>\n",
              "    .dataframe tbody tr th:only-of-type {\n",
              "        vertical-align: middle;\n",
              "    }\n",
              "\n",
              "    .dataframe tbody tr th {\n",
              "        vertical-align: top;\n",
              "    }\n",
              "\n",
              "    .dataframe thead th {\n",
              "        text-align: right;\n",
              "    }\n",
              "</style>\n",
              "<table border=\"1\" class=\"dataframe\">\n",
              "  <thead>\n",
              "    <tr style=\"text-align: right;\">\n",
              "      <th></th>\n",
              "      <th>PassengerId</th>\n",
              "      <th>Survived</th>\n",
              "      <th>Pclass</th>\n",
              "      <th>Name</th>\n",
              "      <th>Sex</th>\n",
              "      <th>Age</th>\n",
              "      <th>SibSp</th>\n",
              "      <th>Parch</th>\n",
              "      <th>Ticket</th>\n",
              "      <th>Fare</th>\n",
              "      <th>Cabin</th>\n",
              "      <th>Embarked</th>\n",
              "    </tr>\n",
              "  </thead>\n",
              "  <tbody>\n",
              "    <tr>\n",
              "      <th>0</th>\n",
              "      <td>1</td>\n",
              "      <td>0</td>\n",
              "      <td>3</td>\n",
              "      <td>Braund, Mr. Owen Harris</td>\n",
              "      <td>male</td>\n",
              "      <td>22.0</td>\n",
              "      <td>1</td>\n",
              "      <td>0</td>\n",
              "      <td>A/5 21171</td>\n",
              "      <td>7.2500</td>\n",
              "      <td>NaN</td>\n",
              "      <td>S</td>\n",
              "    </tr>\n",
              "    <tr>\n",
              "      <th>1</th>\n",
              "      <td>2</td>\n",
              "      <td>1</td>\n",
              "      <td>1</td>\n",
              "      <td>Cumings, Mrs. John Bradley (Florence Briggs Th...</td>\n",
              "      <td>female</td>\n",
              "      <td>38.0</td>\n",
              "      <td>1</td>\n",
              "      <td>0</td>\n",
              "      <td>PC 17599</td>\n",
              "      <td>71.2833</td>\n",
              "      <td>C85</td>\n",
              "      <td>C</td>\n",
              "    </tr>\n",
              "    <tr>\n",
              "      <th>2</th>\n",
              "      <td>3</td>\n",
              "      <td>1</td>\n",
              "      <td>3</td>\n",
              "      <td>Heikkinen, Miss. Laina</td>\n",
              "      <td>female</td>\n",
              "      <td>26.0</td>\n",
              "      <td>0</td>\n",
              "      <td>0</td>\n",
              "      <td>STON/O2. 3101282</td>\n",
              "      <td>7.9250</td>\n",
              "      <td>NaN</td>\n",
              "      <td>S</td>\n",
              "    </tr>\n",
              "    <tr>\n",
              "      <th>3</th>\n",
              "      <td>4</td>\n",
              "      <td>1</td>\n",
              "      <td>1</td>\n",
              "      <td>Futrelle, Mrs. Jacques Heath (Lily May Peel)</td>\n",
              "      <td>female</td>\n",
              "      <td>35.0</td>\n",
              "      <td>1</td>\n",
              "      <td>0</td>\n",
              "      <td>113803</td>\n",
              "      <td>53.1000</td>\n",
              "      <td>C123</td>\n",
              "      <td>S</td>\n",
              "    </tr>\n",
              "    <tr>\n",
              "      <th>4</th>\n",
              "      <td>5</td>\n",
              "      <td>0</td>\n",
              "      <td>3</td>\n",
              "      <td>Allen, Mr. William Henry</td>\n",
              "      <td>male</td>\n",
              "      <td>35.0</td>\n",
              "      <td>0</td>\n",
              "      <td>0</td>\n",
              "      <td>373450</td>\n",
              "      <td>8.0500</td>\n",
              "      <td>NaN</td>\n",
              "      <td>S</td>\n",
              "    </tr>\n",
              "    <tr>\n",
              "      <th>...</th>\n",
              "      <td>...</td>\n",
              "      <td>...</td>\n",
              "      <td>...</td>\n",
              "      <td>...</td>\n",
              "      <td>...</td>\n",
              "      <td>...</td>\n",
              "      <td>...</td>\n",
              "      <td>...</td>\n",
              "      <td>...</td>\n",
              "      <td>...</td>\n",
              "      <td>...</td>\n",
              "      <td>...</td>\n",
              "    </tr>\n",
              "    <tr>\n",
              "      <th>886</th>\n",
              "      <td>887</td>\n",
              "      <td>0</td>\n",
              "      <td>2</td>\n",
              "      <td>Montvila, Rev. Juozas</td>\n",
              "      <td>male</td>\n",
              "      <td>27.0</td>\n",
              "      <td>0</td>\n",
              "      <td>0</td>\n",
              "      <td>211536</td>\n",
              "      <td>13.0000</td>\n",
              "      <td>NaN</td>\n",
              "      <td>S</td>\n",
              "    </tr>\n",
              "    <tr>\n",
              "      <th>887</th>\n",
              "      <td>888</td>\n",
              "      <td>1</td>\n",
              "      <td>1</td>\n",
              "      <td>Graham, Miss. Margaret Edith</td>\n",
              "      <td>female</td>\n",
              "      <td>19.0</td>\n",
              "      <td>0</td>\n",
              "      <td>0</td>\n",
              "      <td>112053</td>\n",
              "      <td>30.0000</td>\n",
              "      <td>B42</td>\n",
              "      <td>S</td>\n",
              "    </tr>\n",
              "    <tr>\n",
              "      <th>888</th>\n",
              "      <td>889</td>\n",
              "      <td>0</td>\n",
              "      <td>3</td>\n",
              "      <td>Johnston, Miss. Catherine Helen \"Carrie\"</td>\n",
              "      <td>female</td>\n",
              "      <td>NaN</td>\n",
              "      <td>1</td>\n",
              "      <td>2</td>\n",
              "      <td>W./C. 6607</td>\n",
              "      <td>23.4500</td>\n",
              "      <td>NaN</td>\n",
              "      <td>S</td>\n",
              "    </tr>\n",
              "    <tr>\n",
              "      <th>889</th>\n",
              "      <td>890</td>\n",
              "      <td>1</td>\n",
              "      <td>1</td>\n",
              "      <td>Behr, Mr. Karl Howell</td>\n",
              "      <td>male</td>\n",
              "      <td>26.0</td>\n",
              "      <td>0</td>\n",
              "      <td>0</td>\n",
              "      <td>111369</td>\n",
              "      <td>30.0000</td>\n",
              "      <td>C148</td>\n",
              "      <td>C</td>\n",
              "    </tr>\n",
              "    <tr>\n",
              "      <th>890</th>\n",
              "      <td>891</td>\n",
              "      <td>0</td>\n",
              "      <td>3</td>\n",
              "      <td>Dooley, Mr. Patrick</td>\n",
              "      <td>male</td>\n",
              "      <td>32.0</td>\n",
              "      <td>0</td>\n",
              "      <td>0</td>\n",
              "      <td>370376</td>\n",
              "      <td>7.7500</td>\n",
              "      <td>NaN</td>\n",
              "      <td>Q</td>\n",
              "    </tr>\n",
              "  </tbody>\n",
              "</table>\n",
              "<p>891 rows × 12 columns</p>\n",
              "</div>\n",
              "      <button class=\"colab-df-convert\" onclick=\"convertToInteractive('df-07f81f37-cda5-4376-a15e-3a059afb434f')\"\n",
              "              title=\"Convert this dataframe to an interactive table.\"\n",
              "              style=\"display:none;\">\n",
              "        \n",
              "  <svg xmlns=\"http://www.w3.org/2000/svg\" height=\"24px\"viewBox=\"0 0 24 24\"\n",
              "       width=\"24px\">\n",
              "    <path d=\"M0 0h24v24H0V0z\" fill=\"none\"/>\n",
              "    <path d=\"M18.56 5.44l.94 2.06.94-2.06 2.06-.94-2.06-.94-.94-2.06-.94 2.06-2.06.94zm-11 1L8.5 8.5l.94-2.06 2.06-.94-2.06-.94L8.5 2.5l-.94 2.06-2.06.94zm10 10l.94 2.06.94-2.06 2.06-.94-2.06-.94-.94-2.06-.94 2.06-2.06.94z\"/><path d=\"M17.41 7.96l-1.37-1.37c-.4-.4-.92-.59-1.43-.59-.52 0-1.04.2-1.43.59L10.3 9.45l-7.72 7.72c-.78.78-.78 2.05 0 2.83L4 21.41c.39.39.9.59 1.41.59.51 0 1.02-.2 1.41-.59l7.78-7.78 2.81-2.81c.8-.78.8-2.07 0-2.86zM5.41 20L4 18.59l7.72-7.72 1.47 1.35L5.41 20z\"/>\n",
              "  </svg>\n",
              "      </button>\n",
              "      \n",
              "  <style>\n",
              "    .colab-df-container {\n",
              "      display:flex;\n",
              "      flex-wrap:wrap;\n",
              "      gap: 12px;\n",
              "    }\n",
              "\n",
              "    .colab-df-convert {\n",
              "      background-color: #E8F0FE;\n",
              "      border: none;\n",
              "      border-radius: 50%;\n",
              "      cursor: pointer;\n",
              "      display: none;\n",
              "      fill: #1967D2;\n",
              "      height: 32px;\n",
              "      padding: 0 0 0 0;\n",
              "      width: 32px;\n",
              "    }\n",
              "\n",
              "    .colab-df-convert:hover {\n",
              "      background-color: #E2EBFA;\n",
              "      box-shadow: 0px 1px 2px rgba(60, 64, 67, 0.3), 0px 1px 3px 1px rgba(60, 64, 67, 0.15);\n",
              "      fill: #174EA6;\n",
              "    }\n",
              "\n",
              "    [theme=dark] .colab-df-convert {\n",
              "      background-color: #3B4455;\n",
              "      fill: #D2E3FC;\n",
              "    }\n",
              "\n",
              "    [theme=dark] .colab-df-convert:hover {\n",
              "      background-color: #434B5C;\n",
              "      box-shadow: 0px 1px 3px 1px rgba(0, 0, 0, 0.15);\n",
              "      filter: drop-shadow(0px 1px 2px rgba(0, 0, 0, 0.3));\n",
              "      fill: #FFFFFF;\n",
              "    }\n",
              "  </style>\n",
              "\n",
              "      <script>\n",
              "        const buttonEl =\n",
              "          document.querySelector('#df-07f81f37-cda5-4376-a15e-3a059afb434f button.colab-df-convert');\n",
              "        buttonEl.style.display =\n",
              "          google.colab.kernel.accessAllowed ? 'block' : 'none';\n",
              "\n",
              "        async function convertToInteractive(key) {\n",
              "          const element = document.querySelector('#df-07f81f37-cda5-4376-a15e-3a059afb434f');\n",
              "          const dataTable =\n",
              "            await google.colab.kernel.invokeFunction('convertToInteractive',\n",
              "                                                     [key], {});\n",
              "          if (!dataTable) return;\n",
              "\n",
              "          const docLinkHtml = 'Like what you see? Visit the ' +\n",
              "            '<a target=\"_blank\" href=https://colab.research.google.com/notebooks/data_table.ipynb>data table notebook</a>'\n",
              "            + ' to learn more about interactive tables.';\n",
              "          element.innerHTML = '';\n",
              "          dataTable['output_type'] = 'display_data';\n",
              "          await google.colab.output.renderOutput(dataTable, element);\n",
              "          const docLink = document.createElement('div');\n",
              "          docLink.innerHTML = docLinkHtml;\n",
              "          element.appendChild(docLink);\n",
              "        }\n",
              "      </script>\n",
              "    </div>\n",
              "  </div>\n",
              "  "
            ]
          },
          "metadata": {},
          "execution_count": 111
        }
      ],
      "source": [
        "# импортируем набор данных\n",
        "df = pd.read_csv('titanic.csv')\n",
        "df"
      ]
    },
    {
      "cell_type": "code",
      "execution_count": 112,
      "id": "503335c1",
      "metadata": {
        "colab": {
          "base_uri": "https://localhost:8080/"
        },
        "id": "503335c1",
        "outputId": "80bdb9a8-e1f7-4028-a2a2-e860ae0ac885"
      },
      "outputs": [
        {
          "output_type": "execute_result",
          "data": {
            "text/plain": [
              "array([[22.    ,  7.25  ,  0.    ,  3.    ],\n",
              "       [38.    , 71.2833,  1.    ,  1.    ],\n",
              "       [26.    ,  7.925 ,  1.    ,  3.    ],\n",
              "       ...,\n",
              "       [    nan, 23.45  ,  0.    ,  3.    ],\n",
              "       [26.    , 30.    ,  1.    ,  1.    ],\n",
              "       [32.    ,  7.75  ,  0.    ,  3.    ]])"
            ]
          },
          "metadata": {},
          "execution_count": 112
        }
      ],
      "source": [
        "X = df.iloc[:, [5, 9, 1, 2]].values\n",
        "X"
      ]
    },
    {
      "cell_type": "code",
      "execution_count": 113,
      "id": "a65fdbe0",
      "metadata": {
        "colab": {
          "base_uri": "https://localhost:8080/"
        },
        "id": "a65fdbe0",
        "outputId": "2a105ed8-5bb5-42b4-96b0-2b425a8e595a"
      },
      "outputs": [
        {
          "output_type": "stream",
          "name": "stdout",
          "text": [
            "<class 'pandas.core.frame.DataFrame'>\n",
            "RangeIndex: 891 entries, 0 to 890\n",
            "Data columns (total 12 columns):\n",
            " #   Column       Non-Null Count  Dtype  \n",
            "---  ------       --------------  -----  \n",
            " 0   PassengerId  891 non-null    int64  \n",
            " 1   Survived     891 non-null    int64  \n",
            " 2   Pclass       891 non-null    int64  \n",
            " 3   Name         891 non-null    object \n",
            " 4   Sex          891 non-null    object \n",
            " 5   Age          714 non-null    float64\n",
            " 6   SibSp        891 non-null    int64  \n",
            " 7   Parch        891 non-null    int64  \n",
            " 8   Ticket       891 non-null    object \n",
            " 9   Fare         891 non-null    float64\n",
            " 10  Cabin        204 non-null    object \n",
            " 11  Embarked     889 non-null    object \n",
            "dtypes: float64(2), int64(5), object(5)\n",
            "memory usage: 83.7+ KB\n"
          ]
        }
      ],
      "source": [
        "df.info()"
      ]
    },
    {
      "cell_type": "code",
      "execution_count": 114,
      "id": "9b6a066e",
      "metadata": {
        "colab": {
          "base_uri": "https://localhost:8080/",
          "height": 300
        },
        "id": "9b6a066e",
        "outputId": "8c46aff5-9a5c-4fad-e367-4281d404012c"
      },
      "outputs": [
        {
          "output_type": "execute_result",
          "data": {
            "text/plain": [
              "       PassengerId    Survived      Pclass         Age       SibSp  \\\n",
              "count   891.000000  891.000000  891.000000  714.000000  891.000000   \n",
              "mean    446.000000    0.383838    2.308642   29.699118    0.523008   \n",
              "std     257.353842    0.486592    0.836071   14.526497    1.102743   \n",
              "min       1.000000    0.000000    1.000000    0.420000    0.000000   \n",
              "25%     223.500000    0.000000    2.000000   20.125000    0.000000   \n",
              "50%     446.000000    0.000000    3.000000   28.000000    0.000000   \n",
              "75%     668.500000    1.000000    3.000000   38.000000    1.000000   \n",
              "max     891.000000    1.000000    3.000000   80.000000    8.000000   \n",
              "\n",
              "            Parch        Fare  \n",
              "count  891.000000  891.000000  \n",
              "mean     0.381594   32.204208  \n",
              "std      0.806057   49.693429  \n",
              "min      0.000000    0.000000  \n",
              "25%      0.000000    7.910400  \n",
              "50%      0.000000   14.454200  \n",
              "75%      0.000000   31.000000  \n",
              "max      6.000000  512.329200  "
            ],
            "text/html": [
              "\n",
              "  <div id=\"df-e2bf03a9-1c37-42f2-93ec-d10ece7a3bb2\">\n",
              "    <div class=\"colab-df-container\">\n",
              "      <div>\n",
              "<style scoped>\n",
              "    .dataframe tbody tr th:only-of-type {\n",
              "        vertical-align: middle;\n",
              "    }\n",
              "\n",
              "    .dataframe tbody tr th {\n",
              "        vertical-align: top;\n",
              "    }\n",
              "\n",
              "    .dataframe thead th {\n",
              "        text-align: right;\n",
              "    }\n",
              "</style>\n",
              "<table border=\"1\" class=\"dataframe\">\n",
              "  <thead>\n",
              "    <tr style=\"text-align: right;\">\n",
              "      <th></th>\n",
              "      <th>PassengerId</th>\n",
              "      <th>Survived</th>\n",
              "      <th>Pclass</th>\n",
              "      <th>Age</th>\n",
              "      <th>SibSp</th>\n",
              "      <th>Parch</th>\n",
              "      <th>Fare</th>\n",
              "    </tr>\n",
              "  </thead>\n",
              "  <tbody>\n",
              "    <tr>\n",
              "      <th>count</th>\n",
              "      <td>891.000000</td>\n",
              "      <td>891.000000</td>\n",
              "      <td>891.000000</td>\n",
              "      <td>714.000000</td>\n",
              "      <td>891.000000</td>\n",
              "      <td>891.000000</td>\n",
              "      <td>891.000000</td>\n",
              "    </tr>\n",
              "    <tr>\n",
              "      <th>mean</th>\n",
              "      <td>446.000000</td>\n",
              "      <td>0.383838</td>\n",
              "      <td>2.308642</td>\n",
              "      <td>29.699118</td>\n",
              "      <td>0.523008</td>\n",
              "      <td>0.381594</td>\n",
              "      <td>32.204208</td>\n",
              "    </tr>\n",
              "    <tr>\n",
              "      <th>std</th>\n",
              "      <td>257.353842</td>\n",
              "      <td>0.486592</td>\n",
              "      <td>0.836071</td>\n",
              "      <td>14.526497</td>\n",
              "      <td>1.102743</td>\n",
              "      <td>0.806057</td>\n",
              "      <td>49.693429</td>\n",
              "    </tr>\n",
              "    <tr>\n",
              "      <th>min</th>\n",
              "      <td>1.000000</td>\n",
              "      <td>0.000000</td>\n",
              "      <td>1.000000</td>\n",
              "      <td>0.420000</td>\n",
              "      <td>0.000000</td>\n",
              "      <td>0.000000</td>\n",
              "      <td>0.000000</td>\n",
              "    </tr>\n",
              "    <tr>\n",
              "      <th>25%</th>\n",
              "      <td>223.500000</td>\n",
              "      <td>0.000000</td>\n",
              "      <td>2.000000</td>\n",
              "      <td>20.125000</td>\n",
              "      <td>0.000000</td>\n",
              "      <td>0.000000</td>\n",
              "      <td>7.910400</td>\n",
              "    </tr>\n",
              "    <tr>\n",
              "      <th>50%</th>\n",
              "      <td>446.000000</td>\n",
              "      <td>0.000000</td>\n",
              "      <td>3.000000</td>\n",
              "      <td>28.000000</td>\n",
              "      <td>0.000000</td>\n",
              "      <td>0.000000</td>\n",
              "      <td>14.454200</td>\n",
              "    </tr>\n",
              "    <tr>\n",
              "      <th>75%</th>\n",
              "      <td>668.500000</td>\n",
              "      <td>1.000000</td>\n",
              "      <td>3.000000</td>\n",
              "      <td>38.000000</td>\n",
              "      <td>1.000000</td>\n",
              "      <td>0.000000</td>\n",
              "      <td>31.000000</td>\n",
              "    </tr>\n",
              "    <tr>\n",
              "      <th>max</th>\n",
              "      <td>891.000000</td>\n",
              "      <td>1.000000</td>\n",
              "      <td>3.000000</td>\n",
              "      <td>80.000000</td>\n",
              "      <td>8.000000</td>\n",
              "      <td>6.000000</td>\n",
              "      <td>512.329200</td>\n",
              "    </tr>\n",
              "  </tbody>\n",
              "</table>\n",
              "</div>\n",
              "      <button class=\"colab-df-convert\" onclick=\"convertToInteractive('df-e2bf03a9-1c37-42f2-93ec-d10ece7a3bb2')\"\n",
              "              title=\"Convert this dataframe to an interactive table.\"\n",
              "              style=\"display:none;\">\n",
              "        \n",
              "  <svg xmlns=\"http://www.w3.org/2000/svg\" height=\"24px\"viewBox=\"0 0 24 24\"\n",
              "       width=\"24px\">\n",
              "    <path d=\"M0 0h24v24H0V0z\" fill=\"none\"/>\n",
              "    <path d=\"M18.56 5.44l.94 2.06.94-2.06 2.06-.94-2.06-.94-.94-2.06-.94 2.06-2.06.94zm-11 1L8.5 8.5l.94-2.06 2.06-.94-2.06-.94L8.5 2.5l-.94 2.06-2.06.94zm10 10l.94 2.06.94-2.06 2.06-.94-2.06-.94-.94-2.06-.94 2.06-2.06.94z\"/><path d=\"M17.41 7.96l-1.37-1.37c-.4-.4-.92-.59-1.43-.59-.52 0-1.04.2-1.43.59L10.3 9.45l-7.72 7.72c-.78.78-.78 2.05 0 2.83L4 21.41c.39.39.9.59 1.41.59.51 0 1.02-.2 1.41-.59l7.78-7.78 2.81-2.81c.8-.78.8-2.07 0-2.86zM5.41 20L4 18.59l7.72-7.72 1.47 1.35L5.41 20z\"/>\n",
              "  </svg>\n",
              "      </button>\n",
              "      \n",
              "  <style>\n",
              "    .colab-df-container {\n",
              "      display:flex;\n",
              "      flex-wrap:wrap;\n",
              "      gap: 12px;\n",
              "    }\n",
              "\n",
              "    .colab-df-convert {\n",
              "      background-color: #E8F0FE;\n",
              "      border: none;\n",
              "      border-radius: 50%;\n",
              "      cursor: pointer;\n",
              "      display: none;\n",
              "      fill: #1967D2;\n",
              "      height: 32px;\n",
              "      padding: 0 0 0 0;\n",
              "      width: 32px;\n",
              "    }\n",
              "\n",
              "    .colab-df-convert:hover {\n",
              "      background-color: #E2EBFA;\n",
              "      box-shadow: 0px 1px 2px rgba(60, 64, 67, 0.3), 0px 1px 3px 1px rgba(60, 64, 67, 0.15);\n",
              "      fill: #174EA6;\n",
              "    }\n",
              "\n",
              "    [theme=dark] .colab-df-convert {\n",
              "      background-color: #3B4455;\n",
              "      fill: #D2E3FC;\n",
              "    }\n",
              "\n",
              "    [theme=dark] .colab-df-convert:hover {\n",
              "      background-color: #434B5C;\n",
              "      box-shadow: 0px 1px 3px 1px rgba(0, 0, 0, 0.15);\n",
              "      filter: drop-shadow(0px 1px 2px rgba(0, 0, 0, 0.3));\n",
              "      fill: #FFFFFF;\n",
              "    }\n",
              "  </style>\n",
              "\n",
              "      <script>\n",
              "        const buttonEl =\n",
              "          document.querySelector('#df-e2bf03a9-1c37-42f2-93ec-d10ece7a3bb2 button.colab-df-convert');\n",
              "        buttonEl.style.display =\n",
              "          google.colab.kernel.accessAllowed ? 'block' : 'none';\n",
              "\n",
              "        async function convertToInteractive(key) {\n",
              "          const element = document.querySelector('#df-e2bf03a9-1c37-42f2-93ec-d10ece7a3bb2');\n",
              "          const dataTable =\n",
              "            await google.colab.kernel.invokeFunction('convertToInteractive',\n",
              "                                                     [key], {});\n",
              "          if (!dataTable) return;\n",
              "\n",
              "          const docLinkHtml = 'Like what you see? Visit the ' +\n",
              "            '<a target=\"_blank\" href=https://colab.research.google.com/notebooks/data_table.ipynb>data table notebook</a>'\n",
              "            + ' to learn more about interactive tables.';\n",
              "          element.innerHTML = '';\n",
              "          dataTable['output_type'] = 'display_data';\n",
              "          await google.colab.output.renderOutput(dataTable, element);\n",
              "          const docLink = document.createElement('div');\n",
              "          docLink.innerHTML = docLinkHtml;\n",
              "          element.appendChild(docLink);\n",
              "        }\n",
              "      </script>\n",
              "    </div>\n",
              "  </div>\n",
              "  "
            ]
          },
          "metadata": {},
          "execution_count": 114
        }
      ],
      "source": [
        "df.describe()"
      ]
    },
    {
      "cell_type": "code",
      "execution_count": 115,
      "id": "0b900ea4",
      "metadata": {
        "colab": {
          "base_uri": "https://localhost:8080/"
        },
        "id": "0b900ea4",
        "outputId": "edef91fc-4dcc-4183-ab91-cfc98c83313c"
      },
      "outputs": [
        {
          "output_type": "execute_result",
          "data": {
            "text/plain": [
              "array(['S', 'C', 'Q', nan], dtype=object)"
            ]
          },
          "metadata": {},
          "execution_count": 115
        }
      ],
      "source": [
        "df.Embarked.unique()"
      ]
    },
    {
      "cell_type": "code",
      "execution_count": 116,
      "id": "0e66e0c4",
      "metadata": {
        "colab": {
          "base_uri": "https://localhost:8080/"
        },
        "id": "0e66e0c4",
        "outputId": "f98e83c2-4d54-4fa9-8c50-33034789cf69"
      },
      "outputs": [
        {
          "output_type": "execute_result",
          "data": {
            "text/plain": [
              "S    644\n",
              "C    168\n",
              "Q     77\n",
              "Name: Embarked, dtype: int64"
            ]
          },
          "metadata": {},
          "execution_count": 116
        }
      ],
      "source": [
        "df.Embarked.value_counts()"
      ]
    },
    {
      "cell_type": "code",
      "execution_count": 117,
      "id": "7d14ff20",
      "metadata": {
        "colab": {
          "base_uri": "https://localhost:8080/"
        },
        "id": "7d14ff20",
        "outputId": "ae4f247d-8b5b-45d0-8cb2-5a6a03476810"
      },
      "outputs": [
        {
          "output_type": "execute_result",
          "data": {
            "text/plain": [
              "PassengerId      0\n",
              "Survived         0\n",
              "Pclass           0\n",
              "Name             0\n",
              "Sex              0\n",
              "Age            177\n",
              "SibSp            0\n",
              "Parch            0\n",
              "Ticket           0\n",
              "Fare             0\n",
              "Cabin          687\n",
              "Embarked         2\n",
              "dtype: int64"
            ]
          },
          "metadata": {},
          "execution_count": 117
        }
      ],
      "source": [
        "df.isnull().sum()"
      ]
    },
    {
      "cell_type": "code",
      "source": [
        "df = df.dropna()"
      ],
      "metadata": {
        "id": "BPrO-X_kl-KY"
      },
      "id": "BPrO-X_kl-KY",
      "execution_count": 118,
      "outputs": []
    },
    {
      "cell_type": "code",
      "source": [
        "df.isnull().sum()"
      ],
      "metadata": {
        "colab": {
          "base_uri": "https://localhost:8080/"
        },
        "id": "YnoTBdP3mB2I",
        "outputId": "7672b3f2-df4b-40de-a8c6-416147ab0943"
      },
      "id": "YnoTBdP3mB2I",
      "execution_count": 119,
      "outputs": [
        {
          "output_type": "execute_result",
          "data": {
            "text/plain": [
              "PassengerId    0\n",
              "Survived       0\n",
              "Pclass         0\n",
              "Name           0\n",
              "Sex            0\n",
              "Age            0\n",
              "SibSp          0\n",
              "Parch          0\n",
              "Ticket         0\n",
              "Fare           0\n",
              "Cabin          0\n",
              "Embarked       0\n",
              "dtype: int64"
            ]
          },
          "metadata": {},
          "execution_count": 119
        }
      ]
    },
    {
      "cell_type": "code",
      "execution_count": 120,
      "id": "a36a61a1",
      "metadata": {
        "id": "a36a61a1"
      },
      "outputs": [],
      "source": [
        "# correl=df.corr()\n",
        "# sns.heatmap(correl,annot=True)"
      ]
    },
    {
      "cell_type": "code",
      "execution_count": null,
      "id": "08f240df",
      "metadata": {
        "id": "08f240df"
      },
      "outputs": [],
      "source": [
        "# x_axis = df.SepalLengthCm.values \n",
        "# y_axis = df.SepalWidthCm.values \n",
        "\n",
        "# plt.xlabel(df.columns.values[1])\n",
        "# plt.ylabel(df.columns.values[2])\n",
        "# plt.scatter(x_axis, y_axis)\n",
        "# plt.show()"
      ]
    },
    {
      "cell_type": "code",
      "execution_count": null,
      "id": "06f18ad4",
      "metadata": {
        "id": "06f18ad4"
      },
      "outputs": [],
      "source": [
        "# import seaborn as sns\n",
        "\n",
        "# sns.set_style(\"whitegrid\")\n",
        "# sns.pairplot(df,hue=\"Species\",size=3);\n",
        "# plt.show()"
      ]
    },
    {
      "cell_type": "code",
      "execution_count": null,
      "id": "b6d4db62",
      "metadata": {
        "id": "b6d4db62"
      },
      "outputs": [],
      "source": [
        "# sns.FacetGrid(df,hue=\"Species\",size=3).map(sns.distplot,\"SepalLengthCm\").add_legend()\n",
        "# sns.FacetGrid(df,hue=\"Species\",size=3).map(sns.distplot,\"SepalWidthCm\").add_legend()\n",
        "# sns.FacetGrid(df,hue=\"Species\",size=3).map(sns.distplot,\"PetalLengthCm\").add_legend()\n",
        "# sns.FacetGrid(df,hue=\"Species\",size=3).map(sns.distplot,\"PetalWidthCm\").add_legend()\n",
        "\n",
        "# plt.show()"
      ]
    },
    {
      "cell_type": "code",
      "execution_count": null,
      "id": "7fdde45d",
      "metadata": {
        "id": "7fdde45d"
      },
      "outputs": [],
      "source": [
        "# sns.boxplot(x=\"Species\",y=\"PetalLengthCm\",data=df)\n",
        "# plt.show()"
      ]
    },
    {
      "cell_type": "raw",
      "id": "b39e640a",
      "metadata": {
        "id": "b39e640a"
      },
      "source": [
        "Eps: Это наименьшее расстояние, необходимое для того, чтобы две точки назывались соседом. Это расстояние известно как Epsilon (Eps). Мы рассматриваем Eps как порог для рассмотрения двух точек в качестве соседей\n",
        "\n",
        "MinSamples: Это относится к минимальному количеству точек, необходимому для создания кластера. Мы рассматриваем MinSamples как порог для рассмотрения кластера как кластера."
      ]
    },
    {
      "cell_type": "code",
      "source": [
        "X = df.iloc[:, [5, 9, 1, 2]].values\n",
        "X"
      ],
      "metadata": {
        "colab": {
          "base_uri": "https://localhost:8080/"
        },
        "id": "z-INnt9BpXRQ",
        "outputId": "e657e8a7-8f71-4ebe-e3ab-c51051c75682"
      },
      "id": "z-INnt9BpXRQ",
      "execution_count": 121,
      "outputs": [
        {
          "output_type": "execute_result",
          "data": {
            "text/plain": [
              "array([[ 38.    ,  71.2833,   1.    ,   1.    ],\n",
              "       [ 35.    ,  53.1   ,   1.    ,   1.    ],\n",
              "       [ 54.    ,  51.8625,   0.    ,   1.    ],\n",
              "       [  4.    ,  16.7   ,   1.    ,   3.    ],\n",
              "       [ 58.    ,  26.55  ,   1.    ,   1.    ],\n",
              "       [ 34.    ,  13.    ,   1.    ,   2.    ],\n",
              "       [ 28.    ,  35.5   ,   1.    ,   1.    ],\n",
              "       [ 19.    , 263.    ,   0.    ,   1.    ],\n",
              "       [ 49.    ,  76.7292,   1.    ,   1.    ],\n",
              "       [ 65.    ,  61.9792,   0.    ,   1.    ],\n",
              "       [ 45.    ,  83.475 ,   0.    ,   1.    ],\n",
              "       [ 29.    ,  10.5   ,   1.    ,   2.    ],\n",
              "       [ 25.    ,   7.65  ,   0.    ,   3.    ],\n",
              "       [ 23.    , 263.    ,   1.    ,   1.    ],\n",
              "       [ 46.    ,  61.175 ,   0.    ,   1.    ],\n",
              "       [ 71.    ,  34.6542,   0.    ,   1.    ],\n",
              "       [ 23.    ,  63.3583,   1.    ,   1.    ],\n",
              "       [ 21.    ,  77.2875,   0.    ,   1.    ],\n",
              "       [ 47.    ,  52.    ,   0.    ,   1.    ],\n",
              "       [ 24.    , 247.5208,   0.    ,   1.    ],\n",
              "       [ 32.5   ,  13.    ,   1.    ,   2.    ],\n",
              "       [ 54.    ,  77.2875,   0.    ,   1.    ],\n",
              "       [ 19.    ,  26.2833,   1.    ,   1.    ],\n",
              "       [ 37.    ,  53.1   ,   0.    ,   1.    ],\n",
              "       [ 24.    ,  79.2   ,   0.    ,   1.    ],\n",
              "       [ 36.5   ,  26.    ,   0.    ,   2.    ],\n",
              "       [ 22.    ,  66.6   ,   1.    ,   1.    ],\n",
              "       [ 61.    ,  33.5   ,   0.    ,   1.    ],\n",
              "       [ 56.    ,  30.6958,   0.    ,   1.    ],\n",
              "       [ 50.    ,  28.7125,   0.    ,   1.    ],\n",
              "       [  1.    ,  39.    ,   1.    ,   2.    ],\n",
              "       [  3.    ,  26.    ,   1.    ,   2.    ],\n",
              "       [ 44.    ,  27.7208,   1.    ,   1.    ],\n",
              "       [ 58.    , 146.5208,   1.    ,   1.    ],\n",
              "       [  2.    ,  10.4625,   0.    ,   3.    ],\n",
              "       [ 40.    ,  31.    ,   1.    ,   1.    ],\n",
              "       [ 31.    , 113.275 ,   1.    ,   1.    ],\n",
              "       [ 32.    ,  76.2917,   1.    ,   1.    ],\n",
              "       [ 38.    ,  90.    ,   1.    ,   1.    ],\n",
              "       [ 35.    ,  83.475 ,   1.    ,   1.    ],\n",
              "       [ 44.    ,  90.    ,   0.    ,   1.    ],\n",
              "       [ 37.    ,  52.5542,   1.    ,   1.    ],\n",
              "       [ 29.    ,  10.4625,   0.    ,   3.    ],\n",
              "       [ 62.    ,  26.55  ,   0.    ,   1.    ],\n",
              "       [ 30.    ,  86.5   ,   1.    ,   1.    ],\n",
              "       [ 52.    ,  79.65  ,   0.    ,   1.    ],\n",
              "       [ 40.    ,   0.    ,   0.    ,   1.    ],\n",
              "       [ 58.    , 153.4625,   1.    ,   1.    ],\n",
              "       [ 35.    , 135.6333,   1.    ,   1.    ],\n",
              "       [ 37.    ,  29.7   ,   0.    ,   1.    ],\n",
              "       [ 63.    ,  77.9583,   1.    ,   1.    ],\n",
              "       [ 19.    ,  91.0792,   1.    ,   1.    ],\n",
              "       [ 36.    ,  12.875 ,   0.    ,   2.    ],\n",
              "       [  2.    , 151.55  ,   0.    ,   1.    ],\n",
              "       [ 50.    , 247.5208,   1.    ,   1.    ],\n",
              "       [  0.92  , 151.55  ,   1.    ,   1.    ],\n",
              "       [ 17.    , 108.9   ,   1.    ,   1.    ],\n",
              "       [ 30.    ,  56.9292,   1.    ,   1.    ],\n",
              "       [ 24.    ,  83.1583,   1.    ,   1.    ],\n",
              "       [ 18.    , 262.375 ,   1.    ,   1.    ],\n",
              "       [ 31.    , 164.8667,   1.    ,   1.    ],\n",
              "       [ 40.    , 134.5   ,   1.    ,   1.    ],\n",
              "       [ 36.    , 135.6333,   1.    ,   1.    ],\n",
              "       [ 36.    ,  13.    ,   1.    ,   2.    ],\n",
              "       [ 16.    ,  57.9792,   1.    ,   1.    ],\n",
              "       [ 45.5   ,  28.5   ,   0.    ,   1.    ],\n",
              "       [ 38.    , 153.4625,   0.    ,   1.    ],\n",
              "       [ 29.    ,  66.6   ,   0.    ,   1.    ],\n",
              "       [ 41.    , 134.5   ,   1.    ,   1.    ],\n",
              "       [ 45.    ,  35.5   ,   0.    ,   1.    ],\n",
              "       [  2.    ,  26.    ,   1.    ,   2.    ],\n",
              "       [ 24.    , 263.    ,   1.    ,   1.    ],\n",
              "       [ 24.    ,  13.    ,   1.    ,   2.    ],\n",
              "       [ 22.    ,  55.    ,   1.    ,   1.    ],\n",
              "       [ 60.    ,  75.25  ,   1.    ,   1.    ],\n",
              "       [ 24.    ,  69.3   ,   1.    ,   1.    ],\n",
              "       [ 25.    ,  55.4417,   1.    ,   1.    ],\n",
              "       [ 27.    , 211.5   ,   0.    ,   1.    ],\n",
              "       [ 36.    , 120.    ,   1.    ,   1.    ],\n",
              "       [ 23.    , 113.275 ,   1.    ,   1.    ],\n",
              "       [ 24.    ,  16.7   ,   1.    ,   3.    ],\n",
              "       [ 33.    ,  90.    ,   1.    ,   1.    ],\n",
              "       [ 32.    ,   8.05  ,   1.    ,   3.    ],\n",
              "       [ 28.    ,  26.55  ,   1.    ,   1.    ],\n",
              "       [ 50.    ,  55.9   ,   0.    ,   1.    ],\n",
              "       [ 14.    , 120.    ,   1.    ,   1.    ],\n",
              "       [ 64.    , 263.    ,   0.    ,   1.    ],\n",
              "       [  4.    ,  81.8583,   1.    ,   1.    ],\n",
              "       [ 52.    ,  30.5   ,   1.    ,   1.    ],\n",
              "       [ 30.    ,  27.75  ,   0.    ,   1.    ],\n",
              "       [ 49.    ,  89.1042,   1.    ,   1.    ],\n",
              "       [ 65.    ,  26.55  ,   0.    ,   1.    ],\n",
              "       [ 48.    ,  26.55  ,   1.    ,   1.    ],\n",
              "       [ 47.    ,  38.5   ,   0.    ,   1.    ],\n",
              "       [ 23.    ,  13.7917,   1.    ,   2.    ],\n",
              "       [ 25.    ,  91.0792,   1.    ,   1.    ],\n",
              "       [ 35.    ,  90.    ,   1.    ,   1.    ],\n",
              "       [ 58.    ,  29.7   ,   0.    ,   1.    ],\n",
              "       [ 55.    ,  30.5   ,   0.    ,   1.    ],\n",
              "       [ 54.    ,  78.2667,   1.    ,   1.    ],\n",
              "       [ 25.    , 151.55  ,   0.    ,   1.    ],\n",
              "       [ 16.    ,  86.5   ,   1.    ,   1.    ],\n",
              "       [ 18.    , 108.9   ,   0.    ,   1.    ],\n",
              "       [ 36.    ,  26.2875,   1.    ,   1.    ],\n",
              "       [ 47.    ,  34.0208,   0.    ,   1.    ],\n",
              "       [ 34.    ,  10.5   ,   1.    ,   2.    ],\n",
              "       [ 30.    ,  93.5   ,   1.    ,   1.    ],\n",
              "       [ 44.    ,  57.9792,   1.    ,   1.    ],\n",
              "       [ 45.    ,  26.55  ,   0.    ,   1.    ],\n",
              "       [ 22.    ,  49.5   ,   1.    ,   1.    ],\n",
              "       [ 36.    ,  71.    ,   1.    ,   1.    ],\n",
              "       [ 50.    , 106.425 ,   0.    ,   1.    ],\n",
              "       [ 17.    , 110.8833,   1.    ,   1.    ],\n",
              "       [ 48.    ,  39.6   ,   1.    ,   1.    ],\n",
              "       [ 39.    ,  79.65  ,   1.    ,   1.    ],\n",
              "       [ 53.    ,  51.4792,   1.    ,   1.    ],\n",
              "       [ 36.    ,  26.3875,   1.    ,   1.    ],\n",
              "       [ 39.    ,  55.9   ,   1.    ,   1.    ],\n",
              "       [ 39.    , 110.8833,   1.    ,   1.    ],\n",
              "       [ 36.    ,  40.125 ,   0.    ,   1.    ],\n",
              "       [ 18.    ,  79.65  ,   1.    ,   1.    ],\n",
              "       [ 60.    ,  79.2   ,   1.    ,   1.    ],\n",
              "       [ 52.    ,  78.2667,   1.    ,   1.    ],\n",
              "       [ 49.    ,  56.9292,   1.    ,   1.    ],\n",
              "       [ 40.    , 153.4625,   1.    ,   1.    ],\n",
              "       [  4.    ,  39.    ,   1.    ,   2.    ],\n",
              "       [ 42.    ,  52.5542,   1.    ,   1.    ],\n",
              "       [ 61.    ,  32.3208,   0.    ,   1.    ],\n",
              "       [ 21.    ,  77.9583,   1.    ,   1.    ],\n",
              "       [ 80.    ,  30.    ,   1.    ,   1.    ],\n",
              "       [ 32.    ,  30.5   ,   1.    ,   1.    ],\n",
              "       [ 24.    ,  69.3   ,   1.    ,   1.    ],\n",
              "       [ 48.    ,  76.7292,   1.    ,   1.    ],\n",
              "       [ 56.    ,  35.5   ,   1.    ,   1.    ],\n",
              "       [ 58.    , 113.275 ,   0.    ,   1.    ],\n",
              "       [ 47.    ,  25.5875,   0.    ,   1.    ],\n",
              "       [ 31.    ,  52.    ,   0.    ,   1.    ],\n",
              "       [ 36.    , 512.3292,   1.    ,   1.    ],\n",
              "       [ 27.    ,  76.7292,   1.    ,   1.    ],\n",
              "       [ 15.    , 211.3375,   1.    ,   1.    ],\n",
              "       [ 31.    ,  57.    ,   1.    ,   1.    ],\n",
              "       [ 49.    , 110.8833,   0.    ,   1.    ],\n",
              "       [ 42.    ,   7.65  ,   0.    ,   3.    ],\n",
              "       [ 18.    , 227.525 ,   1.    ,   1.    ],\n",
              "       [ 35.    ,  26.2875,   1.    ,   1.    ],\n",
              "       [ 42.    ,  26.2875,   1.    ,   1.    ],\n",
              "       [ 24.    ,  49.5042,   1.    ,   1.    ],\n",
              "       [ 48.    ,  52.    ,   1.    ,   1.    ],\n",
              "       [ 19.    ,   7.65  ,   0.    ,   3.    ],\n",
              "       [ 38.    , 227.525 ,   1.    ,   1.    ],\n",
              "       [ 27.    ,  10.5   ,   1.    ,   2.    ],\n",
              "       [ 27.    ,  53.1   ,   1.    ,   1.    ],\n",
              "       [ 29.    , 211.3375,   1.    ,   1.    ],\n",
              "       [ 35.    , 512.3292,   1.    ,   1.    ],\n",
              "       [ 36.    ,  78.85  ,   0.    ,   1.    ],\n",
              "       [ 21.    , 262.375 ,   1.    ,   1.    ],\n",
              "       [ 70.    ,  71.    ,   0.    ,   1.    ],\n",
              "       [ 19.    ,  53.1   ,   0.    ,   1.    ],\n",
              "       [  6.    ,  12.475 ,   1.    ,   3.    ],\n",
              "       [ 33.    ,  86.5   ,   1.    ,   1.    ],\n",
              "       [ 36.    , 120.    ,   1.    ,   1.    ],\n",
              "       [ 51.    ,  77.9583,   1.    ,   1.    ],\n",
              "       [ 57.    ,  10.5   ,   0.    ,   2.    ],\n",
              "       [ 43.    , 211.3375,   1.    ,   1.    ],\n",
              "       [ 17.    ,  57.    ,   1.    ,   1.    ],\n",
              "       [ 29.    ,  30.    ,   0.    ,   1.    ],\n",
              "       [ 46.    ,  79.2   ,   0.    ,   1.    ],\n",
              "       [ 49.    ,  25.9292,   1.    ,   1.    ],\n",
              "       [ 11.    , 120.    ,   1.    ,   1.    ],\n",
              "       [ 39.    ,   0.    ,   0.    ,   1.    ],\n",
              "       [ 33.    ,  53.1   ,   1.    ,   1.    ],\n",
              "       [ 52.    ,  93.5   ,   1.    ,   1.    ],\n",
              "       [ 27.    ,  12.475 ,   1.    ,   3.    ],\n",
              "       [ 39.    ,  83.1583,   1.    ,   1.    ],\n",
              "       [ 16.    ,  39.4   ,   1.    ,   1.    ],\n",
              "       [ 51.    ,  26.55  ,   1.    ,   1.    ],\n",
              "       [ 48.    ,  25.9292,   1.    ,   1.    ],\n",
              "       [ 31.    ,  50.4958,   0.    ,   1.    ],\n",
              "       [ 47.    ,  52.5542,   1.    ,   1.    ],\n",
              "       [ 33.    ,   5.    ,   0.    ,   1.    ],\n",
              "       [ 56.    ,  83.1583,   1.    ,   1.    ],\n",
              "       [ 19.    ,  30.    ,   1.    ,   1.    ],\n",
              "       [ 26.    ,  30.    ,   1.    ,   1.    ]])"
            ]
          },
          "metadata": {},
          "execution_count": 121
        }
      ]
    },
    {
      "cell_type": "code",
      "execution_count": 156,
      "id": "2137f633",
      "metadata": {
        "id": "2137f633"
      },
      "outputs": [],
      "source": [
        "# поэксперементировать с eps и min_samples\n",
        "\n",
        "dbscan = DBSCAN(eps= 11,\n",
        "                min_samples=5\n",
        "               )\n",
        "\n",
        "y_dbscan = dbscan.fit_predict(X)"
      ]
    },
    {
      "cell_type": "code",
      "execution_count": 157,
      "id": "1784f18d",
      "metadata": {
        "colab": {
          "base_uri": "https://localhost:8080/",
          "height": 449
        },
        "id": "1784f18d",
        "outputId": "4afa3ec2-1742-450e-abdc-0143564bb8bd"
      },
      "outputs": [
        {
          "output_type": "display_data",
          "data": {
            "text/plain": [
              "<Figure size 640x480 with 1 Axes>"
            ],
            "image/png": "[encoded data removed]"
          },
          "metadata": {}
        }
      ],
      "source": [
        "# вместо \"...\" вставить столбцы по которым будут строиться графики\n",
        "\n",
        "plt.scatter(X[:, 0], X[:, 1], c = y_dbscan, cmap= \"plasma\") # plotting the clusters\n",
        "plt.xlabel(\"Age\") # X-axis label\n",
        "plt.ylabel(\"Fare\") # Y-axis label\n",
        "plt.show()"
      ]
    },
    {
      "cell_type": "raw",
      "id": "b9dda14c",
      "metadata": {
        "id": "b9dda14c"
      },
      "source": [
        "Выполните кластеризацию зашумленного набора данных из задания о разделительной кластеризации с помощью алгоритма DBSCAN, используя различные значения MinPts (из интервала 3..9) и Eps. Выполните визуализацию полученных результатов в виде точечных графиков, на которых цвет точки отражает принадлежность кластеру.\n",
        "\n",
        "Внесите шум в набор данных (случайным образом изменить определенную долю объектов набора: 1%, 3%, 5%, 10%; изменение может заключаться в добавлении/вычитании к/из одной/нескольких координат объекта случайного числа)."
      ]
    },
    {
      "cell_type": "code",
      "execution_count": 73,
      "id": "fa590b8a",
      "metadata": {
        "id": "fa590b8a"
      },
      "outputs": [],
      "source": [
        "# импортируем набор данных\n",
        "df = pd.read_csv('titanic.csv')"
      ]
    },
    {
      "cell_type": "code",
      "execution_count": 74,
      "id": "9f5e88b0",
      "metadata": {
        "colab": {
          "base_uri": "https://localhost:8080/"
        },
        "id": "9f5e88b0",
        "outputId": "bc670919-b2f5-4028-8e36-5e8408014f62"
      },
      "outputs": [
        {
          "output_type": "execute_result",
          "data": {
            "text/plain": [
              "Int64Index([583, 369, 680, 664, 460, 133,  66, 466, 138, 797, 484, 378, 134,\n",
              "            835, 263, 801, 574, 316, 721, 666, 703, 579,  51, 503, 645, 662,\n",
              "            273, 375, 471,  60, 434, 414, 476,  73,  28, 260,  27, 240,  84,\n",
              "            871, 542, 805, 295, 336, 715, 419, 167,   3, 141, 226],\n",
              "           dtype='int64')"
            ]
          },
          "metadata": {},
          "execution_count": 74
        }
      ],
      "source": [
        "change = df.sample(50).index\n",
        "change"
      ]
    },
    {
      "cell_type": "code",
      "execution_count": 75,
      "id": "89ea9f29",
      "metadata": {
        "id": "89ea9f29"
      },
      "outputs": [],
      "source": [
        "df.loc[change,'Age'] = df.loc[change,'Age']*11\n"
      ]
    },
    {
      "cell_type": "code",
      "source": [
        "df = df.dropna()"
      ],
      "metadata": {
        "id": "iwySqbHLqSEO"
      },
      "id": "iwySqbHLqSEO",
      "execution_count": 76,
      "outputs": []
    },
    {
      "cell_type": "code",
      "execution_count": 77,
      "id": "a696fd97",
      "metadata": {
        "id": "a696fd97"
      },
      "outputs": [],
      "source": [
        "X = df.iloc[:, [5, 9, 1, 2]].values"
      ]
    },
    {
      "cell_type": "code",
      "execution_count": null,
      "id": "ee7b7e9f",
      "metadata": {
        "id": "ee7b7e9f"
      },
      "outputs": [],
      "source": [
        "# import seaborn as sns\n",
        "\n",
        "# sns.set_style(\"whitegrid\")\n",
        "# sns.pairplot(df,hue=\"Species\",size=3);\n",
        "# plt.show()"
      ]
    },
    {
      "cell_type": "code",
      "execution_count": 108,
      "id": "17b801cf",
      "metadata": {
        "id": "17b801cf"
      },
      "outputs": [],
      "source": [
        "dbscan = DBSCAN(eps= 50,\n",
        "                min_samples=4\n",
        "               )\n",
        "\n",
        "y_dbscan = dbscan.fit_predict(X)"
      ]
    },
    {
      "cell_type": "code",
      "execution_count": 109,
      "id": "722c7e92",
      "metadata": {
        "colab": {
          "base_uri": "https://localhost:8080/",
          "height": 449
        },
        "id": "722c7e92",
        "outputId": "fe35eaa7-fcdb-46fe-f007-ec440c705b51"
      },
      "outputs": [
        {
          "output_type": "display_data",
          "data": {
            "text/plain": [
              "<Figure size 640x480 with 1 Axes>"
            ],
            "image/png": "[encoded data removed]"
          },
          "metadata": {}
        }
      ],
      "source": [
        "# вместо \"...\" вставить столбцы по которым будут строиться графики\n",
        "\n",
        "plt.scatter(X[:, 0], X[:, 1], c = y_dbscan, cmap= \"plasma\") # plotting the clusters\n",
        "plt.xlabel(\"Age\") # X-axis label\n",
        "plt.ylabel(\"Fare\") # Y-axis label\n",
        "plt.show()"
      ]
    },
    {
      "cell_type": "raw",
      "id": "68b78c56",
      "metadata": {
        "id": "68b78c56"
      },
      "source": [
        "Объяснить в чем разница между K means и DBSCAN\n",
        "Какой из алгортмов в каких случаях выбирать"
      ]
    },
    {
      "cell_type": "code",
      "source": [],
      "metadata": {
        "id": "KPlFtxawq4NR"
      },
      "id": "KPlFtxawq4NR",
      "execution_count": null,
      "outputs": []
    }
  ],
  "metadata": {
    "kernelspec": {
      "display_name": "Python 3 (ipykernel)",
      "language": "python",
      "name": "python3"
    },
    "language_info": {
      "codemirror_mode": {
        "name": "ipython",
        "version": 3
      },
      "file_extension": ".py",
      "mimetype": "text/x-python",
      "name": "python",
      "nbconvert_exporter": "python",
      "pygments_lexer": "ipython3",
      "version": "3.7.7"
    },
    "colab": {
      "provenance": []
    }
  },
  "nbformat": 4,
  "nbformat_minor": 5
}